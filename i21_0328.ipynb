{
  "cells": [
    {
      "cell_type": "markdown",
      "id": "51f80dfe",
      "metadata": {
        "id": "51f80dfe"
      },
      "source": [
        "# Assignment 2 (i21-0328 Sarim Aeyzaz) #"
      ]
    },
    {
      "cell_type": "code",
      "execution_count": null,
      "id": "f0fea0b5",
      "metadata": {
        "id": "f0fea0b5"
      },
      "outputs": [],
      "source": [
        "def checkSubjects():\n",
        "    '''Ask the user for number of subjects, if an exact match is found, append it into a new dataframe 1 by 1 and display'''\n",
        "\n",
        "    # Take input of total subjects and add them into a list & create a new empty dataframe to store classes found\n",
        "\n",
        "    total = int(input(\"Please enter the number of subjects to search: \"))\n",
        "    subjects = []\n",
        "    for i in range(total):\n",
        "        subjects.append(input(f\"Please enter your subject {i + 1}: \"))\n",
        "\n",
        "    classes = pd.DataFrame(columns=['Subject', 'Day', 'Room', 'Time'])\n",
        "\n",
        "    # Loop every day in timetable (note: not classDict nor labDict), every time in columns and every subject\n",
        "    # If an exact match is found, get the room numbers\n",
        "    # If a string is a special string, get the updated time and subject and append it into the empty dataframe\n",
        "    # Else just append the dataframe with subject, day, room and timeslot and display\n",
        "\n",
        "    # Remember, you do not loop classDict and labDict because there are certain columns you just delete there to\n",
        "    # make generalized dataframes\n",
        "\n",
        "    for day in timetable.keys():\n",
        "        for timeslot in timetable[day].columns:\n",
        "            for subject in subjects:\n",
        "                if (timetable[day][timeslot].eq(subject).any()):\n",
        "                    room = timetable[day][timetable[day][timeslot] == subject].index.values\n",
        "                    if (\"   \" in subject):\n",
        "                        newTime = subject.split(\"   \")[1]\n",
        "                        newSubject = subject.split(\"   \")[0]\n",
        "                        classes.loc[len(classes.index)] = [newSubject, day, room[0], newTime]\n",
        "                    else:\n",
        "                        classes.loc[len(classes.index)] = [subject, day, room[0], timeslot]\n",
        "    display(classes.set_index('Subject'))\n",
        "    return"
      ]
    },
    {
      "cell_type": "code",
      "execution_count": null,
      "id": "8be5da05",
      "metadata": {
        "id": "8be5da05"
      },
      "outputs": [],
      "source": [
        "def whichEmpty():\n",
        "    '''Check which values in each day are None, then get their corresponding day, time and room and\n",
        "    append it into a dataframe'''\n",
        "\n",
        "    # Create a new Dataframe to store empty classes\n",
        "    # Loop through every day(dataframe) and timeslot(column) and see if any classes labelled as \"None\" appear\n",
        "    # If they do, get the room numbers\n",
        "    # Loop through rooms and start adding them with their day and timeslot into the empty classes dataframe and display\n",
        "\n",
        "    emptyClasses = pd.DataFrame(columns=['Day', 'Room', 'Time'])\n",
        "\n",
        "    for day in classDict.keys():\n",
        "        for timeslot in classDict[day].columns:\n",
        "            if (classDict[day][timeslot].eq(\"None\").any()):\n",
        "                rooms = classDict[day][classDict[day][timeslot] == 'None'].index.values\n",
        "                for room in rooms:\n",
        "                    emptyClasses.loc[len(emptyClasses.index)] = [day, room, timeslot]\n",
        "\n",
        "    display(emptyClasses)\n",
        "    return"
      ]
    },
    {
      "cell_type": "code",
      "execution_count": null,
      "id": "c088ae3b",
      "metadata": {
        "id": "c088ae3b"
      },
      "outputs": [],
      "source": [
        "def leastBusyClass():\n",
        "    '''Cycle through all rows in all days and calculate how many classes were held each day for each room,\n",
        "    then append (and sum depending on the condition) into a dictionary and display the least busy class'''\n",
        "\n",
        "    # Create an empty dictionary, for each day(dataframe)'s row(Room Numbers), check if the class is in the dictionary\n",
        "    # If it isn't, add it alone with the number of times 'None' appeared in the row\n",
        "    # If it is, add the current value with the number of times 'None appeared in the row'\n",
        "    # You do 8 - because you're trying to find how many classes there were instead of how many empty spaces there were\n",
        "\n",
        "    busiestClass = {}\n",
        "\n",
        "    for day in classDict.keys():\n",
        "        for index, row in classDict[day].iterrows():\n",
        "            if (index in busiestClass):\n",
        "                busiestClass[index] = busiestClass[index] + (8 - sum(row[0:].isin(['None'])))\n",
        "            else:\n",
        "                busiestClass[index] = (8 - sum(row[0:].isin(['None'])))\n",
        "\n",
        "    # Get minimum value and print out the classes which match the minimum total classes held\n",
        "\n",
        "    minValue = min(busiestClass.values())\n",
        "    print(\"The least busiest classes are: \")\n",
        "    for index, value in busiestClass.items():\n",
        "        if (busiestClass[index] == minValue):\n",
        "            print(f\"{index} \")"
      ]
    },
    {
      "cell_type": "code",
      "execution_count": null,
      "id": "b89e6302",
      "metadata": {
        "id": "b89e6302"
      },
      "outputs": [],
      "source": [
        "def busyLab():\n",
        "    '''Cycle through all rows in all days and calculate how many labs were held each day for each room,\n",
        "    then append (and sum depending on the condition) into a dictionary and display the busiest lab'''\n",
        "\n",
        "    # Create an empty dictionary, for each day(dataframe)'s row(Room Numbers), check if the class is in the dictionary\n",
        "    # If it isn't, add it alone with the number of times 'None' appeared in the row\n",
        "    # If it is, add the current value with the number of times 'None appeared in the row'\n",
        "    # You do 8 - because you're trying to find how many labs there were instead of how many empty spaces there were\n",
        "\n",
        "    busiestLab = {}\n",
        "    labDict['Friday'][\"Something\"] = \"None\" # 'Equalising' the friday sheet since other sheets have 1 extra \"None\" column\n",
        "\n",
        "    for day in labDict.keys():\n",
        "        for index, row in labDict[day].iterrows():\n",
        "            if (index in busiestLab):\n",
        "                busiestLab[index] = busiestLab[index] + (4 - sum(row[0:].isin(['None'])))\n",
        "            else:\n",
        "                busiestLab[index] = (4 - sum(row[0:].isin(['None'])))\n",
        "\n",
        "    # Get maximum value and print out the labs which match the maximum total classes held\n",
        "\n",
        "    maxValue = max(busiestLab.values())\n",
        "    print(\"The busiest labs are: \")\n",
        "    for index, value in busiestLab.items():\n",
        "        if (busiestLab[index] == maxValue):\n",
        "            print(f\"{index} \")"
      ]
    },
    {
      "cell_type": "code",
      "execution_count": null,
      "id": "6fbee96d",
      "metadata": {
        "scrolled": true,
        "id": "6fbee96d"
      },
      "outputs": [],
      "source": [
        "import pandas as pd\n",
        "import numpy as np\n",
        "from IPython.display import display, clear_output\n",
        "\n",
        "# Read from excel file, keep ALL of the sheets, set each dataframe's header column starting from row 4 and set indexes as Room\n",
        "\n",
        "df = pd.read_excel(\"TimeTable, FSC, Fall-2022.xlsx\", sheet_name = None, header = 4, index_col = 'Room')\n",
        "df.pop('Instructions') # Deleting this, it's useless\n",
        "timetable = df         # Copy over the dictionary\n",
        "\n",
        "for day in df.keys(): # Fill each NaN value in dataframes with \"None\"\n",
        "    timetable[day] = df[day].fillna(\"None\")\n",
        "\n",
        "# Create a Lab classes sub-frame which has proper column and drop any column being Unnamed\n",
        "# This is useful later when calculating busiest lab\n",
        "\n",
        "labDict = { 'Monday':df['Monday'].copy(), 'Tuesday':df['Tuesday'].copy(), 'Wednesday':df['Wednesday'].copy(), 'Thursday':df['Thursday'].copy(), 'Friday':df['Friday'].copy()}\n",
        "for day in labDict.keys():\n",
        "    labDict[day] = labDict[day].loc['Lab':]\n",
        "    labDict[day].columns = labDict[day].loc['Lab']\n",
        "    labDict[day] = labDict[day][1:]\n",
        "    labDict[day] = labDict[day].drop(labDict[day].columns[labDict[day].columns.str.contains('None')], axis = 1)\n",
        "    # display(labDict[day])\n",
        "\n",
        "# Create a classes sub-frame which has classrooms only and drop any column being Unnamed\n",
        "# This is useful later when calculating least busiest class\n",
        "\n",
        "classDict = { 'Monday':df['Monday'].copy(), 'Tuesday':df['Tuesday'].copy(), 'Wednesday':df['Wednesday'].copy(), 'Thursday':df['Thursday'].copy(), 'Friday':df['Friday'].copy()}\n",
        "for day in classDict.keys():\n",
        "    if (day == 'Friday'):\n",
        "        classDict[day] = classDict[day].loc[:'A-108']\n",
        "    else:\n",
        "        classDict[day] = classDict[day].loc[:'A-211']\n",
        "    classDict[day] = classDict[day].drop(classDict[day].columns[classDict[day].columns.str.contains('Unnamed')], axis = 1)\n",
        "    # display(classDict[day])\n",
        "\n",
        "# MAIN MENU Starts here, repeat until -1\n",
        "\n",
        "check = 0\n",
        "while (check != \"-1\"):\n",
        "    check = input(\"Welcome to the Menu!\\nPlease select an option\\n\\t1 - Check subjects\\n\\t2 - Return list of empty classes\\n\\t3 - Return the least busiest class of all week\\n\\t4 - Return the busiest labs of the week\\n\\t-1 - Exit\\n\\n\")\n",
        "    match check:\n",
        "        case \"1\":\n",
        "            clear_output()\n",
        "            checkSubjects()\n",
        "        case \"2\":\n",
        "            clear_output()\n",
        "            whichEmpty()\n",
        "        case \"3\":\n",
        "            clear_output()\n",
        "            leastBusyClass()\n",
        "        case \"4\":\n",
        "            clear_output()\n",
        "            busyLab()\n",
        "        case default:\n",
        "            clear_output()\n",
        "            print(\"Incorrect Choice\")\n",
        "clear_output()"
      ]
    }
  ],
  "metadata": {
    "kernelspec": {
      "display_name": "Python 3 (ipykernel)",
      "language": "python",
      "name": "python3"
    },
    "language_info": {
      "codemirror_mode": {
        "name": "ipython",
        "version": 3
      },
      "file_extension": ".py",
      "mimetype": "text/x-python",
      "name": "python",
      "nbconvert_exporter": "python",
      "pygments_lexer": "ipython3",
      "version": "3.10.7"
    },
    "colab": {
      "provenance": []
    }
  },
  "nbformat": 4,
  "nbformat_minor": 5
}